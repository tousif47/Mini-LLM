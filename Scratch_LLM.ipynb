{
  "nbformat": 4,
  "nbformat_minor": 0,
  "metadata": {
    "colab": {
      "provenance": [],
      "mount_file_id": "1UfUxbsaaCK3JN5TuL5rJgifxrD9VvwIQ",
      "authorship_tag": "ABX9TyPI2hRBiDiNVJhEiet4Qg2G",
      "include_colab_link": true
    },
    "kernelspec": {
      "name": "python3",
      "display_name": "Python 3"
    },
    "language_info": {
      "name": "python"
    },
    "accelerator": "TPU"
  },
  "cells": [
    {
      "cell_type": "markdown",
      "metadata": {
        "id": "view-in-github",
        "colab_type": "text"
      },
      "source": [
        "<a href=\"https://colab.research.google.com/github/tousif47/Mini-LLM/blob/main/Scratch_LLM.ipynb\" target=\"_parent\"><img src=\"https://colab.research.google.com/assets/colab-badge.svg\" alt=\"Open In Colab\"/></a>"
      ]
    },
    {
      "cell_type": "code",
      "execution_count": 2,
      "metadata": {
        "id": "ch-1Z_KoG9qe",
        "colab": {
          "base_uri": "https://localhost:8080/"
        },
        "outputId": "15830ed8-dc43-4f74-8bb0-a94009102853"
      },
      "outputs": [
        {
          "output_type": "stream",
          "name": "stdout",
          "text": [
            "Done\n"
          ]
        }
      ],
      "source": [
        "import numpy as np\n",
        "import pandas as pd\n",
        "from keras.utils import to_categorical\n",
        "from keras.utils import pad_sequences\n",
        "from keras.models import Sequential\n",
        "from keras.layers import LSTM, Dense, GRU, Embedding\n",
        "from keras.callbacks import EarlyStopping, ModelCheckpoint\n",
        "\n",
        "print(\"Done\")"
      ]
    },
    {
      "cell_type": "code",
      "source": [
        "data_text = open(\"/content/drive/MyDrive/Practice Playing with code/health.txt\", \"r\")\n",
        "\n",
        "print(data_text.read())\n",
        "print(\"\\n\\nNumber of characters in text file :\", len(open(\"/content/drive/MyDrive/Practice Playing with code/health.txt\", \"r\").read()))"
      ],
      "metadata": {
        "colab": {
          "base_uri": "https://localhost:8080/"
        },
        "id": "_mYOG98Sl0PC",
        "outputId": "cc972ce7-5185-42e3-f481-ae7dc8b0d12f"
      },
      "execution_count": 27,
      "outputs": [
        {
          "output_type": "stream",
          "name": "stdout",
          "text": [
            "Being healthy and fit in simple terms means taking good care of the body. We should remember that a healthy mind resides only in a healthy body. Good health of both mind and body helps one maintain the required energy level to achieve success in life. All of us must strive to achieve wholesome health. Protecting your body from the intake of harmful substances, doing regular exercises, having proper food and sleep are some of the important instances that define a healthy lifestyle. Aldo being fit allows us to perform our activities without being lethargic, restless or tired. A healthy and fit person is capable of living the life to the fullest, without any major medical or physical issues. Being healthy is not only related to the physical well-being of a person, it also involves the mental stability or the internal peace of a person.\n",
            "\n",
            "Generally, a healthy diet consists of taking a proper and healthy food which includes eating green and fresh vegetables, fruits, having milk, eggs, minerals, proteins and vitamins essential for a human’s lifestyle. Practicing Yoga including regular exercises in your daily routine also help you maintain your desired fitness, blood sugar and immunity level.\n",
            "\n",
            "Healthy habits improve your physical appearance, mental stability, ability to perform activities in a better way, which help you lead a stress-free lifestyle, maintaining happy moods, high energy levels, etc. Each individual should take of one’s health on a priority; no single day should be skipped for making efforts on maintaining physical and mental fitness. Being happy is directly related to boosting your mental strength and health, so happiness can be considered as the result as well as the part of a healthy and fit lifestyle.\n",
            "\n",
            "Health can, generally, be measured on major three parameters: Physical, Psychological and Nutritional. Physical health means the physical appearance of a person; Nutritional health means the presence of essential nutrients in the body to fight diseases with immunity. Psychological health means the ability in a person to maintain patience, calm and composure in all circumstances of life. Health professionals consider cancer, diabetes and several other mental and physical health issues such as depression, lethargic attitude, etc to deficiencies in fitness and well-being of a person. Unhealthy and unfit lifestyle of a person also results in premature death. Obesity and lack of physical fitness in young generation sets the stage for diabetes, heart disease, and other serious health problems.\n",
            "\n",
            "Walking, running, cycling, playing, swimming, gardening, skipping, weight-lifting and Yoga are some of the important activities which help us maintain fit and healthy lifestyle. A person who is fit both physically and mentally is strong enough to face the ups and downs of life, and is not affected by drastic changes in the circumstances. One should also spend time outdoors in the sun, inhaling fresh air and taking part in healthy activities. Staying active makes you stay energetic.\n",
            "\n",
            "Eating healthy and nutrients rich food, exercising, taking sufficient sleep, avoiding intake of harmful substances are just few simple ways to stay healthy and fit. These are directly related to our mental, physical and emotional health. Fitness and mental well-being are essential parts of a healthy life. The benefits of an active and healthy lifestyle are undeniable by all means. Whether you decide to increase your activity levels slightly or develop and participate in a thorough fitness plan, it will pay you off in the long run. Exercise is good for your health of various organs of your body and makes you feel stronger.\n",
            "\n",
            "Nutrition and fitness are essential for a healthy living. Not only we look and feel good, but by eating the right nutritional food and doing the right amount of exercise, we could also lower the chances of getting some pretty serious life-threatening diseases.\n",
            "\n",
            "Good health helps a person to live one’s life to its fullest potential without being physically or mentally unfit. Unhealthy lifestyle results in deterioration of one’s wellbeing. Staying healthy and fit is very important for each generation. Exercising and eating healthy are the best ways to retain your health both physically and mentally. People, who take their health seriously and are serious about maintaining their fitness, do exercises on a daily basis, eat a healthy diet, and sleep well on time for adequate duration.\n",
            "\n",
            "Being healthy and fit allows you to stay active and further increases your confidence and concentration power. By staying healthy and fit, one can set an example for others and slowly help others increase their health, nutrition, knowledge, and consumption of sustainably produced foods. Natural phenomena such as pollution, etc also make us unhealthy and unfit. Proper preventive measures must be taken to defend ourselves against adverse natural environment.\n",
            "\n",
            "Staying healthy and fit is not difficult if taken as the foremost priority. By following the above-mentioned simple steps, each one of us can lead a healthy, fit and fruitful life. Maintaining balance of thoughts, nutritional diet, rigorous exercise, Yoga, optimum level of sleep are actually the main contributory factors for our wellbeing and a healthy and fit lifestyle. Health is a dynamic process. It keeps on changing as we change our lifestyle, our eating habits, our sleeping routine, our thoughts, etc. Each day we should work towards maximizing our level of health and wellness to lead long, full, and healthy lives. Our defined aim should be planning our day in a manner that maintains balance of our physical and mental usage. However we can make a huge difference in our lives by staying fit and healthy.\n",
            "\n",
            "Among the most crucial reasons for decline in health today is the lack of proper amount of vitamins and minerals. Improper intake of vegetables, fruits and dairy products leads to absence of minerals and vitamins in our body. Lack of minerals and vitamins lead to all kinds of diseases as nutrients are essentially required to build and repair the blood, tissues, muscles and also bone.\n",
            "\n",
            "Good health not only means a state of absence of diseases in the body but a complete physical, mental, social as well as spiritual wellbeing of an individual. Being healthy means having a healthy brain, flexible movements of body, more energetic, happy moods, peace and patience, etc. Fitness does not only mean your physical wellbeing, it is a combination of physical and mental health of a person. Stress, anxiety, mood fluctuations also represent unhealthy traits of a person. Health refers to the physical, emotional and psychological well-being of a person. Health and fitness is determined by what we eat, how we live our lives, our choice of leisure pursuits and what we do to keep ourselves physically fit. Keeping fit is about how we choose to live our lives as individuals and the levels of fitness we aspire to. Maintain your health and fitness to keep your body look and feel good, but also maintain a level of physical fitness which will enable you to manage and enjoy your daily lifestyle.\n",
            "\n",
            "\n",
            "Number of characters in text file : 7126\n"
          ]
        }
      ]
    },
    {
      "cell_type": "code",
      "source": [
        "# Preprocessing the text data\n",
        "# Basic text preprocessing because a simple dataset with minimal noise has been selected to simplify the code\n",
        "\n"
      ],
      "metadata": {
        "id": "cyXO-fBsmn6V"
      },
      "execution_count": null,
      "outputs": []
    }
  ]
}